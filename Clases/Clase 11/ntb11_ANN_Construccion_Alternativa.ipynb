{
  "nbformat": 4,
  "nbformat_minor": 0,
  "metadata": {
    "kernelspec": {
      "display_name": "Python 3",
      "language": "python",
      "name": "python3"
    },
    "language_info": {
      "codemirror_mode": {
        "name": "ipython",
        "version": 3
      },
      "file_extension": ".py",
      "mimetype": "text/x-python",
      "name": "python",
      "nbconvert_exporter": "python",
      "pygments_lexer": "ipython3",
      "version": "3.7.7"
    },
    "colab": {
      "name": "ntb11_ANN_Construccion_Alternativa.ipynb",
      "provenance": []
    }
  },
  "cells": [
    {
      "cell_type": "code",
      "metadata": {
        "id": "rcNJgMZltAlY"
      },
      "source": [
        "import tensorflow as tf"
      ],
      "execution_count": 1,
      "outputs": []
    },
    {
      "cell_type": "markdown",
      "metadata": {
        "id": "m2RshLeZtAmP"
      },
      "source": [
        "# Creamos el modelo vacío"
      ]
    },
    {
      "cell_type": "code",
      "metadata": {
        "colab": {
          "base_uri": "https://localhost:8080/"
        },
        "id": "Uum7V-iBtAme",
        "outputId": "42e542a5-a5b6-4ef3-a3e6-a2e54bc9d3fb"
      },
      "source": [
        "model = tf.keras.Sequential()\n",
        "model"
      ],
      "execution_count": 2,
      "outputs": [
        {
          "output_type": "execute_result",
          "data": {
            "text/plain": [
              "<keras.engine.sequential.Sequential at 0x7f388392ab10>"
            ]
          },
          "metadata": {},
          "execution_count": 2
        }
      ]
    },
    {
      "cell_type": "markdown",
      "metadata": {
        "id": "u4pT0J_HtAmg"
      },
      "source": [
        "# Luego lo \"rellenamos\" con las distintas capas\n",
        "\n",
        "Tener en cuenta que en este caso no hace falta incluir la capa de Input, la misma se crea automaticamente con el parámetro \"input_shape =  tuple\" de la primera capa Dense. Además, no se requiere aclarar con qué capa se conecta cada capa ya que el modelo ya se definió como \"Sequential\", que se armará una capa tras la otra."
      ]
    },
    {
      "cell_type": "code",
      "metadata": {
        "colab": {
          "base_uri": "https://localhost:8080/"
        },
        "id": "ePMiqDustAmk",
        "outputId": "9bcfd978-ae16-41a6-854e-f71847726af9"
      },
      "source": [
        "model.add(tf.keras.layers.Dense(32, activation = \"relu\", input_shape = (748,)))\n",
        "model.add(tf.keras.layers.Dense(10, activation = \"relu\"))\n",
        "model.add(tf.keras.layers.Dense(8, activation = \"softmax\"))\n",
        "\n",
        "model.summary()"
      ],
      "execution_count": 3,
      "outputs": [
        {
          "output_type": "stream",
          "name": "stdout",
          "text": [
            "Model: \"sequential\"\n",
            "_________________________________________________________________\n",
            " Layer (type)                Output Shape              Param #   \n",
            "=================================================================\n",
            " dense (Dense)               (None, 32)                23968     \n",
            "                                                                 \n",
            " dense_1 (Dense)             (None, 10)                330       \n",
            "                                                                 \n",
            " dense_2 (Dense)             (None, 8)                 88        \n",
            "                                                                 \n",
            "=================================================================\n",
            "Total params: 24,386\n",
            "Trainable params: 24,386\n",
            "Non-trainable params: 0\n",
            "_________________________________________________________________\n"
          ]
        }
      ]
    },
    {
      "cell_type": "markdown",
      "metadata": {
        "id": "Yx3sFxjUtAms"
      },
      "source": [
        "# Luego continuamos como en la otra construcción: compilando, entrenando y haciendo predicciones"
      ]
    },
    {
      "cell_type": "code",
      "metadata": {
        "id": "YoEjngNLtAmw"
      },
      "source": [
        "model.compile(..)\n",
        "model.fit(..)"
      ],
      "execution_count": null,
      "outputs": []
    },
    {
      "cell_type": "code",
      "metadata": {
        "id": "BIB5gB8etAm6"
      },
      "source": [
        "model.predict(..)"
      ],
      "execution_count": null,
      "outputs": []
    }
  ]
}